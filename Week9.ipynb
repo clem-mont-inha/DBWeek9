{
  "nbformat": 4,
  "nbformat_minor": 0,
  "metadata": {
    "colab": {
      "provenance": [],
      "authorship_tag": "ABX9TyMMK9LC7LonbVaP7IwBSh6u",
      "include_colab_link": true
    },
    "kernelspec": {
      "name": "python3",
      "display_name": "Python 3"
    },
    "language_info": {
      "name": "python"
    }
  },
  "cells": [
    {
      "cell_type": "markdown",
      "metadata": {
        "id": "view-in-github",
        "colab_type": "text"
      },
      "source": [
        "<a href=\"https://colab.research.google.com/github/clem-mont-inha/DBWeek9/blob/main/Week9.ipynb\" target=\"_parent\"><img src=\"https://colab.research.google.com/assets/colab-badge.svg\" alt=\"Open In Colab\"/></a>"
      ]
    },
    {
      "cell_type": "code",
      "execution_count": 2,
      "metadata": {
        "colab": {
          "base_uri": "https://localhost:8080/"
        },
        "id": "hMSl5Wk01ngM",
        "outputId": "bda87bc6-3cb7-470f-843f-009d029dcad8"
      },
      "outputs": [
        {
          "output_type": "stream",
          "name": "stdout",
          "text": [
            "Requirement already satisfied: ipython-sql in /usr/local/lib/python3.10/dist-packages (0.5.0)\n",
            "Requirement already satisfied: prettytable in /usr/local/lib/python3.10/dist-packages (from ipython-sql) (3.9.0)\n",
            "Requirement already satisfied: ipython in /usr/local/lib/python3.10/dist-packages (from ipython-sql) (7.34.0)\n",
            "Requirement already satisfied: sqlalchemy>=2.0 in /usr/local/lib/python3.10/dist-packages (from ipython-sql) (2.0.22)\n",
            "Requirement already satisfied: sqlparse in /usr/local/lib/python3.10/dist-packages (from ipython-sql) (0.4.4)\n",
            "Requirement already satisfied: six in /usr/local/lib/python3.10/dist-packages (from ipython-sql) (1.16.0)\n",
            "Requirement already satisfied: ipython-genutils in /usr/local/lib/python3.10/dist-packages (from ipython-sql) (0.2.0)\n",
            "Requirement already satisfied: typing-extensions>=4.2.0 in /usr/local/lib/python3.10/dist-packages (from sqlalchemy>=2.0->ipython-sql) (4.5.0)\n",
            "Requirement already satisfied: greenlet!=0.4.17 in /usr/local/lib/python3.10/dist-packages (from sqlalchemy>=2.0->ipython-sql) (3.0.0)\n",
            "Requirement already satisfied: setuptools>=18.5 in /usr/local/lib/python3.10/dist-packages (from ipython->ipython-sql) (67.7.2)\n",
            "Collecting jedi>=0.16 (from ipython->ipython-sql)\n",
            "  Downloading jedi-0.19.1-py2.py3-none-any.whl (1.6 MB)\n",
            "\u001b[2K     \u001b[90m━━━━━━━━━━━━━━━━━━━━━━━━━━━━━━━━━━━━━━━━\u001b[0m \u001b[32m1.6/1.6 MB\u001b[0m \u001b[31m17.2 MB/s\u001b[0m eta \u001b[36m0:00:00\u001b[0m\n",
            "\u001b[?25hRequirement already satisfied: decorator in /usr/local/lib/python3.10/dist-packages (from ipython->ipython-sql) (4.4.2)\n",
            "Requirement already satisfied: pickleshare in /usr/local/lib/python3.10/dist-packages (from ipython->ipython-sql) (0.7.5)\n",
            "Requirement already satisfied: traitlets>=4.2 in /usr/local/lib/python3.10/dist-packages (from ipython->ipython-sql) (5.7.1)\n",
            "Requirement already satisfied: prompt-toolkit!=3.0.0,!=3.0.1,<3.1.0,>=2.0.0 in /usr/local/lib/python3.10/dist-packages (from ipython->ipython-sql) (3.0.39)\n",
            "Requirement already satisfied: pygments in /usr/local/lib/python3.10/dist-packages (from ipython->ipython-sql) (2.16.1)\n",
            "Requirement already satisfied: backcall in /usr/local/lib/python3.10/dist-packages (from ipython->ipython-sql) (0.2.0)\n",
            "Requirement already satisfied: matplotlib-inline in /usr/local/lib/python3.10/dist-packages (from ipython->ipython-sql) (0.1.6)\n",
            "Requirement already satisfied: pexpect>4.3 in /usr/local/lib/python3.10/dist-packages (from ipython->ipython-sql) (4.8.0)\n",
            "Requirement already satisfied: wcwidth in /usr/local/lib/python3.10/dist-packages (from prettytable->ipython-sql) (0.2.8)\n",
            "Requirement already satisfied: parso<0.9.0,>=0.8.3 in /usr/local/lib/python3.10/dist-packages (from jedi>=0.16->ipython->ipython-sql) (0.8.3)\n",
            "Requirement already satisfied: ptyprocess>=0.5 in /usr/local/lib/python3.10/dist-packages (from pexpect>4.3->ipython->ipython-sql) (0.7.0)\n",
            "Installing collected packages: jedi\n",
            "Successfully installed jedi-0.19.1\n"
          ]
        }
      ],
      "source": [
        "!pip install ipython-sql"
      ]
    },
    {
      "cell_type": "code",
      "source": [
        "import sqlite3\n",
        "import pandas as pd\n",
        "\n",
        "%load_ext sql"
      ],
      "metadata": {
        "colab": {
          "base_uri": "https://localhost:8080/"
        },
        "id": "N4A0UdQV14pa",
        "outputId": "0ccba0a2-91b7-4470-838e-5338b5995ed1"
      },
      "execution_count": 11,
      "outputs": [
        {
          "output_type": "stream",
          "name": "stdout",
          "text": [
            "The sql extension is already loaded. To reload it, use:\n",
            "  %reload_ext sql\n"
          ]
        }
      ]
    },
    {
      "cell_type": "code",
      "source": [
        "conn = sqlite3.connect('lab_session.db')\n",
        "c = conn.cursor()"
      ],
      "metadata": {
        "id": "cZqFxoej2L7d"
      },
      "execution_count": 12,
      "outputs": []
    },
    {
      "cell_type": "code",
      "source": [
        "commands = [\n",
        "\"\"\"CREATE TABLE IF NOT EXISTS students(student_id INTEGER PRIMARY KEY, first_name TEXT, last_name TEXT, major TEXT);\"\"\" ,\n",
        "\"\"\"INSERT INTO students(first_name, last_name, major) VALUES('John', 'Doe', 'Computer Science'), ('Jane', 'Doe', 'Mathematics'), ('Mike', 'Jordan', 'Physics');\"\"\" ,\n",
        "\"\"\"CREATE TABLE IF NOT EXISTS courses(course_id INTEGER PRIMARY KEY, course_name TEXT, department_id INTEGER, instructor_id INTEGER, FOREIGN KEY(department_id) REFERENCES departments (department_id), FOREIGN KEY (instructor_id) REFERENCES instructors (instructor_id));\"\"\" ,\n",
        "\"\"\"INSERT INTO courses(course_name, department_id, instructor_id) VALUES ('Database Systems', 1, 1), ('Data Structures', 1, 2), ('Linear Algebra', 2, 3), ('Quantum Mechanics', 3 , 4);\"\"\",\n",
        "\"\"\"CREATE TABLE IF NOT EXISTS enrollments(enrollment_id INTEGER PRIMARY KEY, student_id INTEGER, course_id INTEGER, FOREIGN KEY (student_id) REFERENCES students (student_id), FOREIGN KEY (course_id) REFERENCES courses (course_id));\"\"\",\n",
        "\"\"\"INSERT INTO enrollments(student_id, course_id) VALUES (1, 1), (1, 2), (2, 3), (3, 4);\"\"\",\n",
        " \"\"\"\n",
        " CREATE TABLE IF NOT EXISTS instructors (\n",
        " instructor_id INTEGER PRIMARY KEY ,\n",
        " first_name TEXT ,\n",
        " last_name TEXT ,\n",
        " department_id INTEGER ,\n",
        " FOREIGN KEY ( department_id ) REFERENCES departments (\n",
        "department_id )\n",
        " );\n",
        " \"\"\" ,\n",
        " \"\"\"\n",
        " INSERT INTO instructors ( first_name , last_name , department_id )\n",
        " VALUES (' Robert ', 'Smith ', 1) ,\n",
        " (' Susan ', 'Johnson ', 2) ,\n",
        " (' Michael ', 'Brown ', 3) ,\n",
        " (' Elizabeth ', 'Taylor ', 4);\n",
        " \"\"\" ,\n",
        " \"\"\"\n",
        " CREATE TABLE IF NOT EXISTS departments (\n",
        " department_id INTEGER PRIMARY KEY ,\n",
        " department_name TEXT\n",
        " );\n",
        " \"\"\" ,\n",
        " \"\"\"\n",
        " INSERT INTO departments ( department_name )\n",
        " VALUES (' Computer Science '),\n",
        " (' Mathematics '),\n",
        " (' Physics '),\n",
        " (' Chemistry ');\n",
        " \"\"\"\n",
        "]\n",
        "for command in commands:\n",
        "  c.execute(command)\n",
        "conn.commit()\n",
        "conn.close()"
      ],
      "metadata": {
        "id": "bDf_hYbs2iIL"
      },
      "execution_count": 13,
      "outputs": []
    },
    {
      "cell_type": "code",
      "source": [
        "conn = sqlite3.connect ('lab_session.db')\n",
        "inner_join_query = \"\"\"\n",
        "SELECT students.first_name AS student_name, courses.course_name FROM students\n",
        "INNER JOIN enrollments ON students.student_id = enrollments.student_id\n",
        "INNER JOIN courses ON enrollments.course_id = courses.course_id ;\n",
        "\"\"\"\n",
        "\n",
        "inner_join_df = pd.read_sql_query(inner_join_query, conn)\n",
        "print(inner_join_df)"
      ],
      "metadata": {
        "colab": {
          "base_uri": "https://localhost:8080/"
        },
        "id": "FVrzrta14ktA",
        "outputId": "55ed3d84-e285-491e-d538-5b74f6e74e74"
      },
      "execution_count": 15,
      "outputs": [
        {
          "output_type": "stream",
          "name": "stdout",
          "text": [
            "  student_name        course_name\n",
            "0         John   Database Systems\n",
            "1         John    Data Structures\n",
            "2         Jane     Linear Algebra\n",
            "3         Mike  Quantum Mechanics\n"
          ]
        }
      ]
    },
    {
      "cell_type": "code",
      "source": [
        "left_join_query = \"\"\"\n",
        "SELECT students.first_name AS student_name, courses.course_name\n",
        "FROM students\n",
        "LEFT JOIN enrollments ON students.student_id = enrollments.student_id\n",
        "LEFT JOIN courses ON enrollments.course_id = courses.course_id ;\n",
        "\"\"\"\n",
        "left_join_df = pd.read_sql_query(left_join_query, conn)\n",
        "print(left_join_df)"
      ],
      "metadata": {
        "colab": {
          "base_uri": "https://localhost:8080/"
        },
        "id": "m2negQ3S5Wrx",
        "outputId": "b6b60487-0f05-429b-968d-bd73b6b909bf"
      },
      "execution_count": 16,
      "outputs": [
        {
          "output_type": "stream",
          "name": "stdout",
          "text": [
            "  student_name        course_name\n",
            "0         John   Database Systems\n",
            "1         John    Data Structures\n",
            "2         Jane     Linear Algebra\n",
            "3         Mike  Quantum Mechanics\n"
          ]
        }
      ]
    },
    {
      "cell_type": "code",
      "source": [
        "full_join_query_1 = \"\"\"\n",
        "WITH RECURSIVE full_join AS (\n",
        "SELECT students.first_name AS student_name , courses.course_name\n",
        "FROM students\n",
        "LEFT JOIN enrollments ON students.student_id = enrollments.student_id\n",
        "LEFT JOIN courses ON enrollments.course_id = courses.course_id\n",
        "UNION ALL\n",
        "SELECT students.first_name AS student_name , courses.course_name\n",
        "FROM courses\n",
        "LEFT JOIN enrollments ON courses.course_id = enrollments.course_id\n",
        "LEFT JOIN students ON enrollments.student_id = students.student_id\n",
        "WHERE students.student_id IS NULL\n",
        ")\n",
        "SELECT * FROM full_join ;\n",
        "\"\"\"\n",
        "\n",
        "full_join_df_1 = pd.read_sql_query ( full_join_query_1 , conn )\n",
        "print(full_join_df_1)"
      ],
      "metadata": {
        "colab": {
          "base_uri": "https://localhost:8080/"
        },
        "id": "ccjSc3_l5oN-",
        "outputId": "4688c005-46ae-4e58-9332-05ab18e8b8d6"
      },
      "execution_count": 17,
      "outputs": [
        {
          "output_type": "stream",
          "name": "stdout",
          "text": [
            "  student_name        course_name\n",
            "0         John   Database Systems\n",
            "1         John    Data Structures\n",
            "2         Jane     Linear Algebra\n",
            "3         Mike  Quantum Mechanics\n"
          ]
        }
      ]
    }
  ]
}